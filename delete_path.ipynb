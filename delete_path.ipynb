{
  "cells": [
    {
      "cell_type": "code",
      "execution_count": null,
      "metadata": {},
      "outputs": [],
      "source": [
        "import os\n",
        "import json\n",
        "import re\n",
        "\n",
        "def remove_paths_from_cell(cell):\n",
        "    if cell['cell_type'] == 'code':\n",
        "        # コードセル内の各行に対してパスを削除\n",
        "        updated_code = [re.sub(r\"[CD]:/[^'\\\"]+\", '', line) for line in cell['source']]\n",
        "        cell['source'] = updated_code\n",
        "\n",
        "# ディレクトリ内のすべての.ipynbファイルに対して処理\n",
        "directory = './NumericDetection/'\n",
        "for filename in os.listdir(directory):\n",
        "    if filename == 'delete_path.ipynb':\n",
        "        continue\n",
        "    if filename.endswith('.ipynb'):\n",
        "        file_path = os.path.join(directory, filename)\n",
        "        with open(file_path, 'r', encoding='utf-8') as file:\n",
        "            notebook = json.load(file)\n",
        "\n",
        "        # すべてのセルに対してパスの削除を実行\n",
        "        for cell in notebook['cells']:\n",
        "            remove_paths_from_cell(cell)\n",
        "\n",
        "        # 変更をファイルに書き戻す\n",
        "        with open(file_path, 'w', encoding='utf-8') as file:\n",
        "            json.dump(notebook, file, ensure_ascii=False, indent=2)\n"
      ]
    }
  ],
  "metadata": {
    "kernelspec": {
      "display_name": "Python 3.10.6 64-bit",
      "language": "python",
      "name": "python3"
    },
    "language_info": {
      "codemirror_mode": {
        "name": "ipython",
        "version": 3
      },
      "file_extension": ".py",
      "mimetype": "text/x-python",
      "name": "python",
      "nbconvert_exporter": "python",
      "pygments_lexer": "ipython3",
      "version": "3.10.6"
    },
    "orig_nbformat": 4,
    "vscode": {
      "interpreter": {
        "hash": "b47f45c18499de3d80696c681856b513a5ea4c2414069b55f1d3ac496fdc2728"
      }
    }
  },
  "nbformat": 4,
  "nbformat_minor": 2
}
